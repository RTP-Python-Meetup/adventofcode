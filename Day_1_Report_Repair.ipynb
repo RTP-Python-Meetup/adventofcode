{
 "cells": [
  {
   "cell_type": "code",
   "execution_count": 1,
   "metadata": {},
   "outputs": [
    {
     "data": {
      "text/plain": [
       "[1287, 1366, 1669, 1724, 1338, 1560, 1328, 1886, 1514, 1863]"
      ]
     },
     "execution_count": 1,
     "metadata": {},
     "output_type": "execute_result"
    }
   ],
   "source": [
    "with open('Day_1_Report_Repair.txt') as input_file:\n",
    "    data = list(map(int, input_file.read().split()))\n",
    "\n",
    "#show the data is now sorted integers\n",
    "data[:10] "
   ]
  },
  {
   "cell_type": "code",
   "execution_count": 2,
   "metadata": {},
   "outputs": [],
   "source": [
    "# ----------------------------------- 99 character ruler comment ----------------------------------\n",
    "\n",
    "# We can then itterate over a filtered enumeration of data where the value is less than max_n\n",
    "def find_sum(sum_to, numbers, numbers_summed=2):\n",
    "    sorted_numbers = sorted(numbers)\n",
    "    # Now that we have sorted values, we can set a half way point to the sum because:\n",
    "    # a + b = c is impossible if:\n",
    "    #    a < b and a > 1/2 * c\n",
    "    max_n = sum_to // 2\n",
    "\n",
    "    for index, n in filter(lambda n: n[1] < max_n, enumerate(sorted_numbers)):\n",
    "        # If we're looking for a set greater than 2, then this is a recursive function where:\n",
    "        # for each number, each level of recursion searches for a sum of sum_to - n within the\n",
    "        # remaining munbers.\n",
    "        if numbers_summed > 2:\n",
    "            # Since this is a generator, and therefore so is the recursion, each value yielded will\n",
    "            # be itterated over and yielded by the outer level or recursion\n",
    "            for match in find_sum(sum_to - n, sorted_numbers[index + 1:], numbers_summed - 1):\n",
    "                yield [n] + match\n",
    "        # Otherwize each value we itterate over, we can check if the value sum_to - n exists in the\n",
    "        # remaining unchecked values\n",
    "        else:\n",
    "            if sum_to - n in sorted_numbers[index + 1:]:\n",
    "                yield [n, sum_to - n]"
   ]
  },
  {
   "cell_type": "code",
   "execution_count": 3,
   "metadata": {},
   "outputs": [
    {
     "name": "stdout",
     "output_type": "stream",
     "text": [
      "2 numbers from the provided data that add to 2020:\n",
      "\n",
      "    437 + 1583 = 2020\n",
      "    437 * 1583 = 691771\n",
      "\n",
      "3 numbers from the provided data that add to 2020:\n",
      "\n",
      "    335 + 717 + 968 = 2020\n",
      "    335 * 717 * 968 = 232508760\n",
      "\n"
     ]
    }
   ],
   "source": [
    "from functools import reduce\n",
    "\n",
    "for numbers_summed in range(2,4):\n",
    "    print(f\"{numbers_summed} numbers from the provided data that add to 2020:\")\n",
    "    for numbers in find_sum(2020, data, numbers_summed):\n",
    "        print(f\"\"\"\n",
    "    {' + '.join(map(str, numbers))} = {sum(numbers)}\n",
    "    {' * '.join(map(str, numbers))} = {reduce(int.__mul__, numbers)}\n",
    "\"\"\")"
   ]
  },
  {
   "cell_type": "markdown",
   "metadata": {},
   "source": [
    "# Expected result\n",
    "\n",
    "* 2 numbers adding to 2020: 437, 1583 -- product: 691771\n",
    "* 3 numbers adding to 2020: 335, 717, 968 -- product 232508760"
   ]
  }
 ],
 "metadata": {
  "kernelspec": {
   "display_name": "Python 3",
   "language": "python",
   "name": "python3"
  },
  "language_info": {
   "codemirror_mode": {
    "name": "ipython",
    "version": 3
   },
   "file_extension": ".py",
   "mimetype": "text/x-python",
   "name": "python",
   "nbconvert_exporter": "python",
   "pygments_lexer": "ipython3",
   "version": "3.7.8"
  }
 },
 "nbformat": 4,
 "nbformat_minor": 4
}
